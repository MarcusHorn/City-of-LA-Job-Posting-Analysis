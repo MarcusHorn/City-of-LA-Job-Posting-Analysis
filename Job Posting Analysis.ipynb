{
 "cells": [
  {
   "cell_type": "markdown",
   "metadata": {},
   "source": [
    "# City of L.A. Job Posting Analysis"
   ]
  },
  {
   "cell_type": "markdown",
   "metadata": {},
   "source": [
    "WARNING: This kernel is incomplete and I likely will not finish it due to other projects having eaten up my time (I got lost in the regexes), but I am providing it as a learning exercise and to share some of my ideas for you to improve your own implementation (See Recommendations, I tried to ensure that the insights I provided there are a unique twist on what has been floating around).\n",
    "\n",
    "This kernel is created as an entry into the Data Science for Good: City of Los Angeles competition hosted on Kaggle (https://www.kaggle.com/c/data-science-for-good-city-of-los-angeles/overview). \n",
    "\n",
    "The city is facing a wave of retirements in 2020, with about 1/3 of the current 50,000 workers eligible for retirement. To ensure the continued effectiveness of public services, the city needs to optimize its job postings for their open positions, such that a more diverse, high-quality applicant pool is obtained, as well as to make promotion structure more transparent and easy to identify.\n",
    "\n",
    "I will be analyzing the job posting data provided by the City of LA using Python in this Jupyter Notebook, enhanced with the following modules:\n",
    "\n",
    "* ##### Scikit-learn: Contains open-source machine learning classifiers used to analyze the competition data.\n",
    "* ##### Pandas: Used to create data tables, modify them, and read/write between data stored in the script and CSV files.\n",
    "* ##### Numpy: Used to operate on data within matrices more easily and intuitively than in base Python.\n",
    "* ##### Math: Built-in Python library containing additional mathematical operations such as cosine and flooring.\n",
    "* ##### Matplotlib: Python library used to create graphs and charts similarly to Matlab.\n",
    "* ##### Seaborn: Additional plotting library used for creating graphs and other visualizations.\n",
    "* ##### OS: Built-in Python library used for system operations such as navigating files.\n",
    "* ##### Re: Python library that allows the use of regular expressions to search for text strings within the job postings.\n",
    "\n",
    "To make more effective recommendations, I will be using external data on job posting language outcomes to instrument the metrics derived from the competition data. In particular, we will need a way to relate candidate quality and diversity, in addition promotion mobility, to job posting language.\n",
    "\n",
    "Source of this info: TBD"
   ]
  },
  {
   "cell_type": "code",
   "execution_count": 40,
   "metadata": {},
   "outputs": [],
   "source": [
    "# Helper libraries\n",
    "import pandas as pd\n",
    "import numpy as np\n",
    "import matplotlib.pyplot as plt\n",
    "import seaborn as sns\n",
    "import math\n",
    "import os\n",
    "import re\n",
    "\n",
    "# Scikit-learn libraries\n",
    "import sklearn as sk\n",
    "from sklearn import ensemble\n",
    "from sklearn import model_selection\n",
    "from sklearn.metrics import confusion_matrix\n",
    "from sklearn.utils.multiclass import unique_labels\n",
    "from sklearn.naive_bayes import GaussianNB\n",
    "from sklearn.svm import SVC"
   ]
  },
  {
   "cell_type": "markdown",
   "metadata": {},
   "source": [
    "### Preparing Job Posting Data\n",
    "\n",
    "As a first step, we want to establish the file paths that will be accessed to retrieve each type of provided data. These paths will start at whichever directory that this script is stored in.\n",
    "\n",
    "If you wish to add more data on top of the competition's provided data, simply add the appropriate files to the corresponding folders: the program will automatically access each file as needed. \n",
    "\n",
    "Also, if you use a different naming scheme for the folders, you can also modify the file paths that are specified in the proceeding line of code:"
   ]
  },
  {
   "cell_type": "code",
   "execution_count": 2,
   "metadata": {},
   "outputs": [],
   "source": [
    "job_post_path = \"/CityofLA/Job Bulletins/\" # Stores .txt files"
   ]
  },
  {
   "cell_type": "markdown",
   "metadata": {},
   "source": [
    "The following function will be reused in order to retrieve the paths of the files stored in a given directory. It takes two arguments, a string of the path to the stored directory, and a string of the file extension to check for (only files of the specified type will be scanned). These files will be retrieved in alphanumerical order."
   ]
  },
  {
   "cell_type": "code",
   "execution_count": 82,
   "metadata": {},
   "outputs": [],
   "source": [
    "def getFiles(fileDirectory, fileType):\n",
    "    fileNames = []\n",
    "    filePaths = []\n",
    "    files = os.listdir(fileDirectory)\n",
    "    print(\"Number of job postings found: \", len(files))\n",
    "    files.sort()\n",
    "    for file in files:\n",
    "        if file.endswith(fileType):\n",
    "            fileNames.append(file)\n",
    "            filePaths.append(fileDirectory + file)\n",
    "    return (fileNames, filePaths)"
   ]
  },
  {
   "cell_type": "markdown",
   "metadata": {},
   "source": [
    "Finally, before proceeding, we will need to get the system path leading to where this kernel is stored. The aforementioned folder paths must be stuck onto the end of this base path in order for the script to work."
   ]
  },
  {
   "cell_type": "code",
   "execution_count": 83,
   "metadata": {},
   "outputs": [
    {
     "name": "stdout",
     "output_type": "stream",
     "text": [
      "/home/jovyan/work/Documents/github_repos/LA Job Text Analysis\n"
     ]
    }
   ],
   "source": [
    "system_path = os.path.dirname(os.path.realpath(\"Job Posting Analysis\"))\n",
    "print(system_path)"
   ]
  },
  {
   "cell_type": "markdown",
   "metadata": {},
   "source": [
    "#### Testing File Paths\n",
    "\n",
    "The following block of code should display the heading of the first job posting file stored within the desired folder; ensure that this is the case on your file system before proceeding!"
   ]
  },
  {
   "cell_type": "code",
   "execution_count": 84,
   "metadata": {},
   "outputs": [
    {
     "name": "stdout",
     "output_type": "stream",
     "text": [
      "Number of job postings found:  684\n",
      "File path of first job posting:  /home/jovyan/work/Documents/github_repos/LA Job Text Analysis/CityofLA/Job Bulletins/311 DIRECTOR  9206 041814.txt\n",
      "Header:  311 DIRECTOR\n",
      "\n"
     ]
    }
   ],
   "source": [
    "jobFileNames, jobFilePaths = getFiles(system_path + job_post_path,'.txt')\n",
    "first_job_post = jobFilePaths[0]\n",
    "print(\"File path of first job posting: \", first_job_post)\n",
    "file = open(first_job_post,'r')\n",
    "first_contents = file.readlines()\n",
    "print(\"Header: \", first_contents[0])"
   ]
  },
  {
   "cell_type": "markdown",
   "metadata": {},
   "source": [
    "### Setting Up File Reading and Submission"
   ]
  },
  {
   "cell_type": "markdown",
   "metadata": {},
   "source": [
    "Here I will define functions for parsing data from each individual text file, as well as setting up the submission CSV file based on the sample job class and titles files provided. As a precaution, we want to first check that the proper number of job titles were provided in the job_titles.csv file:"
   ]
  },
  {
   "cell_type": "code",
   "execution_count": 85,
   "metadata": {},
   "outputs": [
    {
     "name": "stdout",
     "output_type": "stream",
     "text": [
      "Provided job list has 668 job titles, while 683 job postings were found in the folder.\n"
     ]
    }
   ],
   "source": [
    "sample_job_title_path = system_path + \"/CityofLA/Additional data/job_titles.csv\"\n",
    "titles = pd.read_csv(sample_job_title_path)\n",
    "title_list = []\n",
    "title_list.append(\"311 DIRECTOR\")\n",
    "for title in titles[\"311 DIRECTOR\"]:\n",
    "    title_list.append(title)\n",
    "print(\"Provided job list has %d job titles, while %d job postings were found in the folder.\" \n",
    "      % (len(title_list),len(jobFilePaths)))"
   ]
  },
  {
   "cell_type": "markdown",
   "metadata": {},
   "source": [
    "Since there is a discrepancy in the numbers of jobs listed in the CSV file and actual postings, I will ignore the job_titles.csv data and instead retrieve job titles from each file.\n",
    "\n",
    "First, I will be setting up the submission CSV file based on the file structure provided in the Kaggle competition. If you wish to use an already created CSV file, simply change the variable 'Setup' to False."
   ]
  },
  {
   "cell_type": "code",
   "execution_count": 86,
   "metadata": {},
   "outputs": [
    {
     "data": {
      "text/html": [
       "<div>\n",
       "<style scoped>\n",
       "    .dataframe tbody tr th:only-of-type {\n",
       "        vertical-align: middle;\n",
       "    }\n",
       "\n",
       "    .dataframe tbody tr th {\n",
       "        vertical-align: top;\n",
       "    }\n",
       "\n",
       "    .dataframe thead th {\n",
       "        text-align: right;\n",
       "    }\n",
       "</style>\n",
       "<table border=\"1\" class=\"dataframe\">\n",
       "  <thead>\n",
       "    <tr style=\"text-align: right;\">\n",
       "      <th></th>\n",
       "      <th>FILE_NAME</th>\n",
       "      <th>JOB_CLASS_TITLE</th>\n",
       "      <th>JOB_CLASS_NO</th>\n",
       "      <th>REQUIREMENT_SET_ID</th>\n",
       "      <th>REQUIREMENT_SUBSET_ID</th>\n",
       "      <th>JOB_DUTIES</th>\n",
       "      <th>EDUCATION_YEARS</th>\n",
       "      <th>SCHOOL_TYPE</th>\n",
       "      <th>EDUCATION_MAJOR</th>\n",
       "      <th>EXPERIENCE_LENGTH</th>\n",
       "      <th>...</th>\n",
       "      <th>COURSE_LENGTH</th>\n",
       "      <th>COURSE_SUBJECT</th>\n",
       "      <th>MISC_COURSE_DETAILS</th>\n",
       "      <th>DRIVERS_LICENSE_REQ</th>\n",
       "      <th>DRIV_LIC_TYPE</th>\n",
       "      <th>ADDTL_LIC</th>\n",
       "      <th>EXAM_TYPE</th>\n",
       "      <th>ENTRY_SALARY_GEN</th>\n",
       "      <th>ENTRY_SALARY_DWP</th>\n",
       "      <th>OPEN_DATE</th>\n",
       "    </tr>\n",
       "  </thead>\n",
       "  <tbody>\n",
       "  </tbody>\n",
       "</table>\n",
       "<p>0 rows × 25 columns</p>\n",
       "</div>"
      ],
      "text/plain": [
       "Empty DataFrame\n",
       "Columns: [FILE_NAME, JOB_CLASS_TITLE, JOB_CLASS_NO, REQUIREMENT_SET_ID, REQUIREMENT_SUBSET_ID, JOB_DUTIES, EDUCATION_YEARS, SCHOOL_TYPE, EDUCATION_MAJOR, EXPERIENCE_LENGTH, FULL_TIME_PART_TIME, EXP_JOB_CLASS_TITLE, EXP_JOB_CLASS_ALT_RESP, EXP_JOB_CLASS_FUNCTION, COURSE_COUNT, COURSE_LENGTH, COURSE_SUBJECT, MISC_COURSE_DETAILS, DRIVERS_LICENSE_REQ, DRIV_LIC_TYPE, ADDTL_LIC, EXAM_TYPE, ENTRY_SALARY_GEN, ENTRY_SALARY_DWP, OPEN_DATE]\n",
       "Index: []\n",
       "\n",
       "[0 rows x 25 columns]"
      ]
     },
     "execution_count": 86,
     "metadata": {},
     "output_type": "execute_result"
    }
   ],
   "source": [
    "Setup = True\n",
    "if Setup == True:\n",
    "    sample_job_class_path = system_path + \"/CityofLA/Additional data/sample job class export template.csv\"\n",
    "    \n",
    "    classes = pd.read_csv(sample_job_class_path)\n",
    "\n",
    "    submission = pd.DataFrame(columns=classes.columns)\n",
    "else:\n",
    "    submission = pd.read_csv(\"kaggle_submission.csv\")\n",
    "submission.head()"
   ]
  },
  {
   "cell_type": "markdown",
   "metadata": {},
   "source": [
    "#### Extracting Features\n",
    "\n",
    "With the submission set up as intended, we are now ready to begin text analysis to extract the desired features as stipulated in the \"kaggle_data_dictionary.csv\" file. These headers are already incorporated into the work-in-progress submission dataframe, as created and shown above.\n",
    "\n",
    "As a first step, we want to retrieve the texts of each job posting so that we can apply regex searches to extract features.\n",
    "\n",
    "NOTE: On my Mac, the text files were encoded with ISO-8859-1 instead of UTF-8, which led to problems with retrieving é characters, I set an alternative encoding accordingly."
   ]
  },
  {
   "cell_type": "code",
   "execution_count": 90,
   "metadata": {},
   "outputs": [
    {
     "name": "stdout",
     "output_type": "stream",
     "text": [
      "311 DIRECTOR\n",
      "Class Code:       9206\n",
      "Open Date:  04-18-14\n",
      "ANNUAL SALARY \n",
      "\n",
      "$125,175 to $155,514 \n",
      "\n",
      "DUTIES\n",
      "\n",
      "A 311 Director is responsible for the successful operation and expansion of the 311 Call Center in the Information Technology Agency (ITA) which answers call from constituents regarding Citywide services provided by City departments; works to ensure the efficient and effective resolution of any issues that may arise; plans, directs, hires, coaches, and coordinates a large staff of professional, technical and clerical employees engaged in the implementation, administration, and operations of the City's 311 Call Center; applies sound supervisor principles and techniques in building and maintaining and effective work force; fulfills equal opportunity responsibilities; and does related work.\n",
      "\n",
      "REQUIREMENTS\n",
      "\n",
      "1. One year of full-time paid experience as a Senior Management Analyst with the City of Los Angeles or in a class which is at least at the level which provides professional experience in supervisory or managerial work relating to a call center with at least 50 call agents or a call center that receives at least one million calls annually; or\n",
      "2. A Bachelor's degree from a recognized college or university and four years of full-time paid experience in a call center environment with at least 50 call agents or a call center that receives at least one million calls annually, two years of which must be supervising staff working at such a call center; or\n",
      "3. Eight years of full-time paid experience in a call center environment with at least 50 call agents or call center that receives at least one million calls annually, two years of which must be supervising staff working at such a call center.\n",
      "\n",
      "NOTES:\n",
      "\n",
      "1. In addition to the regular City application, all applicants must complete a 311 Director Qualifications Questionnaire at the time of filing.  The 311 Director Qualifications Questionnaire is located within the Qualifications Questions section of the City application.  Applicants who fail to complete the Qualifications Questionnaire will not be considered further in this examination, and their application will not be processed.\n",
      "2. Applicants who lack six months or less of the required experience may file for this examination. However, they cannot be appointed until the full experience requirement is met.\n",
      "3. Call center experience related to sales and telemarketing is excluded.\n",
      "4. Customer Relations Management (CRM) systems expertise, including implementation, integration, and knowledge base creation is highly desired. \n",
      "\n",
      "WHERE TO APPLY\n",
      "\n",
      "Applications will only be accepted online. When you are viewing the online job bulletin of your choice, simply scroll to the top of the page and select the \"Apply\" icon. Online job bulletins are also available at http://agency.governmentjobs.com/lacity/default.cfm for Open Competitive Examinations and at http://agency.governmentjobs.com/lacity/default.cfm?promotionaljobs=1 for Promotional Examinations. \n",
      "\n",
      "NOTE:\n",
      "\n",
      "Should a large number of qualified candidates file for this examination, an expert review committee may be assembled to evaluate each candidate's qualifications for the position of 311 Director. In this evaluation, the expert review committee will assess each applicant's training and experience based upon the information in the applicant's City employment application and the Qualifications Questionnaire. Those candidates considered by the expert review committee as possessing the greatest likelihood of successfully performing the duties of a 311 Director, based solely on the information presented to the committee, will be invited to participate in the interview. \n",
      "\n",
      "APPLICATION DEADLINE\n",
      "\n",
      "Applications must be received by THURSDAY, MAY 1, 2014.\n",
      "\n",
      "In accordance with Civil Service Rule 4.2, all applicants who apply may not be tested in this examination. To meet anticipated hiring needs, only a limited number of qualified applicants will be invited to participate in the interview in the following order: 1) Los Angeles City Promotional applicants who meet the minimum requirements. You must have received a regular appointment to a City position or be on a reserve list to apply for this examination as a promotional candidate; 2) Applicants currently employed by the City of Los Angeles on a part-time or exempt basis who meet the minimum requirements; 3) Remaining applicants who meet the minimum requirements in sufficient numbers to meet hiring needs in the order that applications were received. Applications submitted during the filing period will be kept on file for two years from April 18, 2014 in the event that additional applicants need to be tested to meet hiring needs. \n",
      "\n",
      "SELECTION PROCESS\n",
      "\n",
      "Examination Weight: Interview . . .  . . . . . . . . . . . . . . . . . . . . . . . . . . . . . . . . . . . . . . . . . . . . . . . . . . . . . . . . . . . . . . 100%\n",
      "\n",
      "The examination will consist entirely of an evaluation of qualifications by interview.  In the interview, emphasis may be placed on the candidate's experience and background as they provide the knowledge of: principles, practices, and techniques of managing a large scale call center; City budgetary, administrative, and legislative rules and regulations; safety principles and practices; telephony, voice recording, Interactive Voice Response (IVR), and Customer Relations Management (CRM) systems; mobile application, e-mail, and social media; call center optimization strategies such as process re-engineering, multi-channel strategy, call center consolidation, and technology solution investigation; training techniques, including curriculum development; principles and practices of supervision, including, directing, assigning, motivating, mentoring, training, counseling, disciplining, commending, and evaluating the work of subordinates; pertinent City and Personnel Department rules, policies, and procedures, including Equal Employment Opportunity; and ability to manage the daily operations and coordinate large scale, City-wide projects of a call center; hire, direct, evaluate, and coordinate the work of a large group of professional, technical, and clerical employees; prepare and present effective oral and written reports and recommendations; communicate effectively in public and to groups; deal tactfully and effectively with a variety of individuals; and other necessary skills, knowledge, and abilities.\n",
      "\n",
      "Candidates will be notified later by mail of the date, time, and location of the interview, which will be held in Los Angeles. It is anticipated that the interviews will begin during the period of JULY 7, 2014 through JULY 18, 2014.\n",
      "\n",
      "NOTES:\n",
      "\n",
      "1. As a covered entity under the Fair Employment and Housing Act and Title II of the Americans with Disabilities Act, the City of Los Angeles does not discriminate on the basis of disability and upon request, will provide reasonable accommodations to ensure equal access to its programs, services, and activities.  To request a disability accommodation, please complete the Disability Accommodation Form within 14 calendar days of the submittal of the City application.  The Disability Accommodation Form can be obtained at http://per.lacity.org/exams/verify_disability.pdf.\n",
      "2. Appointment to this position is subject to a one-year probationary period as provided by Section 1011 of the Los Angeles City Charter.\n",
      "3. Promotional candidates will accrue seniority credit at the rate of 0.10 of a point for each year of service for this position.  A maximum of one point will be added to the score of those candidates.  \n",
      "4. The promotional list will ordinarily be used ahead of the open competitive list.  However, if open competitive candidates receive a higher score, without military credits, than the highest available promotional candidate, after adding seniority credit as indicated above, the Civil Service Commission, upon request of the appointing authority, may approve certification of such open competitive candidates ahead of the promotional candidates.\n",
      "5. You must have received a regular appointment to a City position or be on a reserve list to file on a promotional basis.\n",
      "6. In conjunction with Civil Service Rules, applicants who have received a regular appointment to a City position or are on a reserve list will be considered Promotional candidates while all other applicants will be considered Open candidates. \n",
      "7. Applications are accepted subject to review to ensure that minimum qualifications are met.  Candidates may be disqualified at any time if it is determined that they do not possess the minimum qualifications stated on this bulletin.\n",
      "8. A final average score of 70% is required to be placed on the eligible list.\n",
      "9. The successful candidate may be required to complete a medical examination prior to appointment.\n",
      "\n",
      "Notice:  \n",
      "\n",
      "If you receive and accept an offer of employment to a regular position with the City of Los Angeles, your employee benefit coverage (including health and dental coverage as well as life insurance) will commence approximately six weeks after your original regular appointment. Not all positions in the City receive benefit coverage; you should inquire regarding the availability of employee benefits prior to accepting a position.\n",
      "\n",
      "THIS EXAMINATION IS TO BE GIVEN ONLY ON \n",
      "AN INTERDEPARTMENTAL PROMOTIONAL AND AN OPEN COMPETITIVE BASIS\n",
      "\n",
      "The City of Los Angeles does not discriminate on the basis of race, religion, national origin, sex, age, marital status, sexual orientation, gender identity, gender expression, disability, creed, color, ancestry, medical condition (cancer), or Acquired Immune Deficiency Syndrome.\n",
      "AN EQUAL EMPLOYMENT OPPORTUNITY EMPLOYER \n",
      "\n",
      "\n",
      "\n",
      "Class Code 9206 . . . . . . . . . . . . . . . . . . . . . . . . . . . . . . . . . . . . . . . . . . . . . . . . . . . . . . . . . . . . . . . . . . . . . . . . . . . . . . . . . . . . . .04-18-14\n",
      "\n",
      "\n"
     ]
    }
   ],
   "source": [
    "jobTexts = []\n",
    "enc = \"ISO-8859-1\"\n",
    "\n",
    "for i in range(len(jobFilePaths)):\n",
    "    file = open(jobFilePaths[i], encoding=enc)\n",
    "    jobText = file.read()\n",
    "    # Strip newlines and tabs and replace them with spaces\n",
    "    #jobText = jobText.replace('\\n',' ')\n",
    "    #jobText = jobText.replace('\\t',' ')\n",
    "    jobTexts.append(jobText)\n",
    "print(jobTexts[0])"
   ]
  },
  {
   "cell_type": "markdown",
   "metadata": {},
   "source": [
    "Now, we will run through a series of scripts to populate one to several submission fields each from the text data. Some of these will be more involved than others, and thus more prone to error, and so I wish to keep these self-contained as much as possible. There are 25 fields that must be filled in total, with the JOB_CLASS_TITLE already retrieved."
   ]
  },
  {
   "cell_type": "code",
   "execution_count": 126,
   "metadata": {},
   "outputs": [],
   "source": [
    "def findTitle(text):\n",
    "    regex = re.compile(r'.*')\n",
    "    title = re.search(regex, text)\n",
    "    if title:\n",
    "        return title.group(0)\n",
    "    else:\n",
    "        return None\n",
    "\n",
    "def findCode(text):\n",
    "    regex = re.compile(r'(?:Class\\s+[C,c]ode:)(?:\\s+)(\\d\\d\\d\\d)')\n",
    "    code = re.search(regex, text)\n",
    "    if code:\n",
    "        return code.group(1)\n",
    "    else:\n",
    "        return None\n",
    "\n",
    "def findDate(text):\n",
    "    regex = re.compile(r'(?:Open\\s+[D,d]ate:)?(?:\\s+)?(\\d*-\\d*-\\d*)')\n",
    "    date = re.search(regex, text)\n",
    "    if date:\n",
    "        return date.group(1)\n",
    "    else:\n",
    "        return None\n",
    "    \n",
    "def findSalary(text):\n",
    "    regex = re.compile(r'\\$(\\d+,\\d+)((\\s(to|and)\\s)(\\$\\d+,\\d+))?')\n",
    "    salary = re.search(regex, text)\n",
    "    if salaray:\n",
    "        return salary.group(1)\n",
    "    else:\n",
    "        return None\n",
    "\n",
    "# The requirement sets are denoted with a numbered list if there are multiple, or none\n",
    "# if there is only 1 requirement set. Subsets are denoted with a lettered list under each\n",
    "# number, if any. Subset field should default to 'A' if there is no subset specified.\n",
    "def findReqs(text):\n",
    "    # regex1 finds the entire requirements section\n",
    "    regex1 = re.compile(r'(?:Open [D,d]ate:)(\\s+)(\\d\\d-\\d\\d-\\d\\d)')\n",
    "    reqSection = re.search(regex1, text)\n",
    "    # regex2 splits the requirements section into individual listed points\n",
    "    regex2 = re.compile(r'')\n",
    "    reqSets = [['A']]\n",
    "    return (reqSets, reqSubsets,reqTexts)"
   ]
  },
  {
   "cell_type": "code",
   "execution_count": 127,
   "metadata": {},
   "outputs": [
    {
     "data": {
      "text/html": [
       "<div>\n",
       "<style scoped>\n",
       "    .dataframe tbody tr th:only-of-type {\n",
       "        vertical-align: middle;\n",
       "    }\n",
       "\n",
       "    .dataframe tbody tr th {\n",
       "        vertical-align: top;\n",
       "    }\n",
       "\n",
       "    .dataframe thead th {\n",
       "        text-align: right;\n",
       "    }\n",
       "</style>\n",
       "<table border=\"1\" class=\"dataframe\">\n",
       "  <thead>\n",
       "    <tr style=\"text-align: right;\">\n",
       "      <th></th>\n",
       "      <th>FILE_NAME</th>\n",
       "      <th>JOB_CLASS_TITLE</th>\n",
       "      <th>JOB_CLASS_NO</th>\n",
       "      <th>REQUIREMENT_SET_ID</th>\n",
       "      <th>REQUIREMENT_SUBSET_ID</th>\n",
       "      <th>JOB_DUTIES</th>\n",
       "      <th>EDUCATION_YEARS</th>\n",
       "      <th>SCHOOL_TYPE</th>\n",
       "      <th>EDUCATION_MAJOR</th>\n",
       "      <th>EXPERIENCE_LENGTH</th>\n",
       "      <th>...</th>\n",
       "      <th>COURSE_LENGTH</th>\n",
       "      <th>COURSE_SUBJECT</th>\n",
       "      <th>MISC_COURSE_DETAILS</th>\n",
       "      <th>DRIVERS_LICENSE_REQ</th>\n",
       "      <th>DRIV_LIC_TYPE</th>\n",
       "      <th>ADDTL_LIC</th>\n",
       "      <th>EXAM_TYPE</th>\n",
       "      <th>ENTRY_SALARY_GEN</th>\n",
       "      <th>ENTRY_SALARY_DWP</th>\n",
       "      <th>OPEN_DATE</th>\n",
       "    </tr>\n",
       "  </thead>\n",
       "  <tbody>\n",
       "    <tr>\n",
       "      <th>0</th>\n",
       "      <td>311 DIRECTOR  9206 041814.txt</td>\n",
       "      <td>311 DIRECTOR</td>\n",
       "      <td>9206</td>\n",
       "      <td>NaN</td>\n",
       "      <td>NaN</td>\n",
       "      <td>NaN</td>\n",
       "      <td>NaN</td>\n",
       "      <td>NaN</td>\n",
       "      <td>NaN</td>\n",
       "      <td>NaN</td>\n",
       "      <td>...</td>\n",
       "      <td>NaN</td>\n",
       "      <td>NaN</td>\n",
       "      <td>NaN</td>\n",
       "      <td>NaN</td>\n",
       "      <td>NaN</td>\n",
       "      <td>NaN</td>\n",
       "      <td>NaN</td>\n",
       "      <td>NaN</td>\n",
       "      <td>NaN</td>\n",
       "      <td>04-18-14</td>\n",
       "    </tr>\n",
       "    <tr>\n",
       "      <th>1</th>\n",
       "      <td>ACCOUNTANT 1513 062218.txt</td>\n",
       "      <td>ACCOUNTANT</td>\n",
       "      <td>1513</td>\n",
       "      <td>NaN</td>\n",
       "      <td>NaN</td>\n",
       "      <td>NaN</td>\n",
       "      <td>NaN</td>\n",
       "      <td>NaN</td>\n",
       "      <td>NaN</td>\n",
       "      <td>NaN</td>\n",
       "      <td>...</td>\n",
       "      <td>NaN</td>\n",
       "      <td>NaN</td>\n",
       "      <td>NaN</td>\n",
       "      <td>NaN</td>\n",
       "      <td>NaN</td>\n",
       "      <td>NaN</td>\n",
       "      <td>NaN</td>\n",
       "      <td>NaN</td>\n",
       "      <td>NaN</td>\n",
       "      <td>06-22-18</td>\n",
       "    </tr>\n",
       "    <tr>\n",
       "      <th>2</th>\n",
       "      <td>ACCOUNTING CLERK 1223 071318.txt</td>\n",
       "      <td>ACCOUNTING CLERK</td>\n",
       "      <td>1223</td>\n",
       "      <td>NaN</td>\n",
       "      <td>NaN</td>\n",
       "      <td>NaN</td>\n",
       "      <td>NaN</td>\n",
       "      <td>NaN</td>\n",
       "      <td>NaN</td>\n",
       "      <td>NaN</td>\n",
       "      <td>...</td>\n",
       "      <td>NaN</td>\n",
       "      <td>NaN</td>\n",
       "      <td>NaN</td>\n",
       "      <td>NaN</td>\n",
       "      <td>NaN</td>\n",
       "      <td>NaN</td>\n",
       "      <td>NaN</td>\n",
       "      <td>NaN</td>\n",
       "      <td>NaN</td>\n",
       "      <td>07-13-18</td>\n",
       "    </tr>\n",
       "    <tr>\n",
       "      <th>3</th>\n",
       "      <td>ACCOUNTING RECORDS SUPERVISOR 1119 072718.txt</td>\n",
       "      <td>ACCOUNTING RECORDS SUPERVISOR</td>\n",
       "      <td>1119</td>\n",
       "      <td>NaN</td>\n",
       "      <td>NaN</td>\n",
       "      <td>NaN</td>\n",
       "      <td>NaN</td>\n",
       "      <td>NaN</td>\n",
       "      <td>NaN</td>\n",
       "      <td>NaN</td>\n",
       "      <td>...</td>\n",
       "      <td>NaN</td>\n",
       "      <td>NaN</td>\n",
       "      <td>NaN</td>\n",
       "      <td>NaN</td>\n",
       "      <td>NaN</td>\n",
       "      <td>NaN</td>\n",
       "      <td>NaN</td>\n",
       "      <td>NaN</td>\n",
       "      <td>NaN</td>\n",
       "      <td>07-27-18</td>\n",
       "    </tr>\n",
       "    <tr>\n",
       "      <th>4</th>\n",
       "      <td>ADMINISTRATIVE ANALYST 1590 060118.txt</td>\n",
       "      <td>ADMINISTRATIVE ANALYST</td>\n",
       "      <td>1590</td>\n",
       "      <td>NaN</td>\n",
       "      <td>NaN</td>\n",
       "      <td>NaN</td>\n",
       "      <td>NaN</td>\n",
       "      <td>NaN</td>\n",
       "      <td>NaN</td>\n",
       "      <td>NaN</td>\n",
       "      <td>...</td>\n",
       "      <td>NaN</td>\n",
       "      <td>NaN</td>\n",
       "      <td>NaN</td>\n",
       "      <td>NaN</td>\n",
       "      <td>NaN</td>\n",
       "      <td>NaN</td>\n",
       "      <td>NaN</td>\n",
       "      <td>NaN</td>\n",
       "      <td>NaN</td>\n",
       "      <td>06-01-18</td>\n",
       "    </tr>\n",
       "  </tbody>\n",
       "</table>\n",
       "<p>5 rows × 25 columns</p>\n",
       "</div>"
      ],
      "text/plain": [
       "                                       FILE_NAME  \\\n",
       "0                  311 DIRECTOR  9206 041814.txt   \n",
       "1                     ACCOUNTANT 1513 062218.txt   \n",
       "2               ACCOUNTING CLERK 1223 071318.txt   \n",
       "3  ACCOUNTING RECORDS SUPERVISOR 1119 072718.txt   \n",
       "4         ADMINISTRATIVE ANALYST 1590 060118.txt   \n",
       "\n",
       "                 JOB_CLASS_TITLE JOB_CLASS_NO REQUIREMENT_SET_ID  \\\n",
       "0                   311 DIRECTOR         9206                NaN   \n",
       "1                     ACCOUNTANT         1513                NaN   \n",
       "2               ACCOUNTING CLERK         1223                NaN   \n",
       "3  ACCOUNTING RECORDS SUPERVISOR         1119                NaN   \n",
       "4         ADMINISTRATIVE ANALYST         1590                NaN   \n",
       "\n",
       "  REQUIREMENT_SUBSET_ID JOB_DUTIES EDUCATION_YEARS SCHOOL_TYPE  \\\n",
       "0                   NaN        NaN             NaN         NaN   \n",
       "1                   NaN        NaN             NaN         NaN   \n",
       "2                   NaN        NaN             NaN         NaN   \n",
       "3                   NaN        NaN             NaN         NaN   \n",
       "4                   NaN        NaN             NaN         NaN   \n",
       "\n",
       "  EDUCATION_MAJOR EXPERIENCE_LENGTH  ... COURSE_LENGTH COURSE_SUBJECT  \\\n",
       "0             NaN               NaN  ...           NaN            NaN   \n",
       "1             NaN               NaN  ...           NaN            NaN   \n",
       "2             NaN               NaN  ...           NaN            NaN   \n",
       "3             NaN               NaN  ...           NaN            NaN   \n",
       "4             NaN               NaN  ...           NaN            NaN   \n",
       "\n",
       "  MISC_COURSE_DETAILS DRIVERS_LICENSE_REQ DRIV_LIC_TYPE ADDTL_LIC EXAM_TYPE  \\\n",
       "0                 NaN                 NaN           NaN       NaN       NaN   \n",
       "1                 NaN                 NaN           NaN       NaN       NaN   \n",
       "2                 NaN                 NaN           NaN       NaN       NaN   \n",
       "3                 NaN                 NaN           NaN       NaN       NaN   \n",
       "4                 NaN                 NaN           NaN       NaN       NaN   \n",
       "\n",
       "  ENTRY_SALARY_GEN ENTRY_SALARY_DWP OPEN_DATE  \n",
       "0              NaN              NaN  04-18-14  \n",
       "1              NaN              NaN  06-22-18  \n",
       "2              NaN              NaN  07-13-18  \n",
       "3              NaN              NaN  07-27-18  \n",
       "4              NaN              NaN  06-01-18  \n",
       "\n",
       "[5 rows x 25 columns]"
      ]
     },
     "execution_count": 127,
     "metadata": {},
     "output_type": "execute_result"
    }
   ],
   "source": [
    "classCodes = []\n",
    "openDates = []\n",
    "fileNames = []\n",
    "jobTitles = []\n",
    "for i in range(len(jobTexts)):\n",
    "    jobText = jobTexts[i]\n",
    "    jobFile = jobFileNames[i]\n",
    "    #print(jobFile)\n",
    "    jobTitle = findTitle(jobText)\n",
    "    classCode = findCode(jobText)\n",
    "    openDate = findDate(jobText)\n",
    "    salary = findSalary(jobText)\n",
    "    \n",
    "    fileNames.append(jobFile)\n",
    "    jobTitles.append(jobTitle)\n",
    "    classCodes.append(classCode)\n",
    "    openDates.append(openDate)\n",
    "submission[\"JOB_CLASS_TITLE\"] = jobTitles\n",
    "submission[\"JOB_CLASS_NO\"] = classCodes\n",
    "submission[\"OPEN_DATE\"] = openDates\n",
    "submission[\"FILE_NAME\"] = fileNames\n",
    "submission.head(5)"
   ]
  },
  {
   "cell_type": "markdown",
   "metadata": {},
   "source": [
    "## Promotion Alerts\n",
    "\n",
    "It is desired that the system administrator should be able to search up a specific employee and, based upon their job and length of employment, return any promotions that they are currently eligible for, along with any additional requirements these promotions have.\n",
    "\n",
    "The helper function to do this, given the job postings dataframe, a CSV-derived Pandas employee dataframe, and the employee name string to search for (this can be adapted to employee id or whichever unique identifier your system uses), is included below."
   ]
  },
  {
   "cell_type": "code",
   "execution_count": null,
   "metadata": {},
   "outputs": [],
   "source": [
    "def findPromotions(job_postings, data, employee):\n",
    "    promotionNotices = []\n",
    "    employee_line = data.loc[employee,:]\n",
    "    years = float(employee_line[years])\n",
    "    job = employee_line[job]\n",
    "    possiblePromotions = job_postings[(EXP_JOB_CLASS_TITLE == job) & \n",
    "                                      (EXPERIENCE_LENGTH <= years)]\n",
    "    promotions = possiblePromotions[JOB_CLASS_TITLE]\n",
    "    # Put all types of desired requirements here:\n",
    "    requirements = []\n",
    "    for i in range(len(promotions)):\n",
    "        req = \"\"\n",
    "        requirements.append(req)\n",
    "    for i in range(len(promotions)):\n",
    "        notice = \"Eligible for promotion to %s: also requires %s\" % promotions[i],requirements[i]\n",
    "        promotionNotices.append(notice)\n",
    "    return promotionNotices"
   ]
  },
  {
   "cell_type": "markdown",
   "metadata": {},
   "source": [
    "I will create a test file with a few employees to verify that the function works as intended:"
   ]
  },
  {
   "cell_type": "code",
   "execution_count": null,
   "metadata": {},
   "outputs": [],
   "source": [
    "employee_test = pd.DataFrame()\n",
    "# TODO"
   ]
  },
  {
   "cell_type": "markdown",
   "metadata": {},
   "source": [
    "## Recommendations\n",
    "\n",
    "### To Improve Candidate Diversity and Quality\n",
    "1. First, make sure to scrub the job descriptions of unexplained acronyms or jargon; this would intuitively bias the candidate pool towards those already intimately familiar with the specific job functions and protocols at a given organization and discourages diversity. In code, check for any instances consecutive capital letters (excluding headers), for example DMV, that may be acronyms and examine if they are properly explained. You might also hard code checks for jargon indicators such as 'Department' or 'Section #'.\n",
    "2. Ensure that readability scores are low enough to be understandable by most of the target audience, particularly for low-requirement jobs. (Find a way to graph readability vs. experience level?)\n",
    "3. On top of a simple search for gendered nouns/pronouns, check for gendered items in job description.\n",
    "\n",
    "### Promotion Paths\n",
    "1. As an improvement on the diagrams provided, create a function to autofill a promotion graph for a desired job to make a clear visualisation"
   ]
  },
  {
   "cell_type": "code",
   "execution_count": null,
   "metadata": {},
   "outputs": [],
   "source": []
  }
 ],
 "metadata": {
  "kernelspec": {
   "display_name": "Python 3",
   "language": "python",
   "name": "python3"
  },
  "language_info": {
   "codemirror_mode": {
    "name": "ipython",
    "version": 3
   },
   "file_extension": ".py",
   "mimetype": "text/x-python",
   "name": "python",
   "nbconvert_exporter": "python",
   "pygments_lexer": "ipython3",
   "version": "3.7.1"
  }
 },
 "nbformat": 4,
 "nbformat_minor": 2
}
